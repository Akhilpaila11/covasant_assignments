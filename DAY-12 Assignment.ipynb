{
 "cells": [
  {
   "cell_type": "code",
   "execution_count": 5,
   "id": "246b777e-f577-4fe5-a9d2-f89c33db7bec",
   "metadata": {},
   "outputs": [],
   "source": [
    "import pandas as pd\n",
    "from sklearn.model_selection import train_test_split\n",
    "from sklearn.preprocessing import LabelEncoder\n",
    "from sklearn.metrics import accuracy_score\n",
    "from sklearn.ensemble import RandomForestClassifier\n",
    "\n",
    "\n",
    "file_path = r\"code\\data\\Predict-The-Data-Scientists-Salary-In-India_Train_Dataset.csv\"\n",
    "data = pd.read_csv(file_path)"
   ]
  },
  {
   "cell_type": "code",
   "execution_count": 9,
   "id": "8a1bf991-bcdd-41dc-84ae-7aa7bb7c2724",
   "metadata": {},
   "outputs": [
    {
     "data": {
      "text/plain": [
       "0         5.0\n",
       "1        10.0\n",
       "2         5.0\n",
       "3         7.0\n",
       "4         1.0\n",
       "         ... \n",
       "19797    12.0\n",
       "19798     0.0\n",
       "19799     8.0\n",
       "19800     1.0\n",
       "19801     2.0\n",
       "Name: min_experience, Length: 19802, dtype: float64"
      ]
     },
     "execution_count": 9,
     "metadata": {},
     "output_type": "execute_result"
    }
   ],
   "source": [
    "data.columns = data.columns.str.strip()\n",
    "\n",
    "def get_min_exp(exp):\n",
    "    try:\n",
    "        return float(exp.split('-')[0]) if '-' in exp else float(exp)\n",
    "    except:\n",
    "        return 0.0\n",
    "\n",
    "data['min_experience'] = data['experience'].apply(lambda x: get_min_exp(str(x)))\n",
    "data['min_experience']"
   ]
  },
  {
   "cell_type": "code",
   "execution_count": 8,
   "id": "c91d0acd-b9b0-4912-85d3-b00dabae417b",
   "metadata": {},
   "outputs": [
    {
     "data": {
      "text/plain": [
       "0        5\n",
       "1        1\n",
       "2        2\n",
       "3        1\n",
       "4        4\n",
       "        ..\n",
       "19797    2\n",
       "19798    0\n",
       "19799    2\n",
       "19800    1\n",
       "19801    1\n",
       "Name: salary, Length: 19802, dtype: int64"
      ]
     },
     "execution_count": 8,
     "metadata": {},
     "output_type": "execute_result"
    }
   ],
   "source": [
    "for col in ['location', 'company_name_encoded', 'job_desig', 'job_type']:\n",
    "    data[col] = LabelEncoder().fit_transform(data[col].astype(str))\n",
    "\n",
    "data['salary'] = LabelEncoder().fit_transform(data['salary'].astype(str))\n",
    "\n",
    "data['salary']"
   ]
  },
  {
   "cell_type": "code",
   "execution_count": 12,
   "id": "298796f0-2f69-46e3-af0b-2c44b9821218",
   "metadata": {},
   "outputs": [
    {
     "data": {
      "text/html": [
       "<div>\n",
       "<style scoped>\n",
       "    .dataframe tbody tr th:only-of-type {\n",
       "        vertical-align: middle;\n",
       "    }\n",
       "\n",
       "    .dataframe tbody tr th {\n",
       "        vertical-align: top;\n",
       "    }\n",
       "\n",
       "    .dataframe thead th {\n",
       "        text-align: right;\n",
       "    }\n",
       "</style>\n",
       "<table border=\"1\" class=\"dataframe\">\n",
       "  <thead>\n",
       "    <tr style=\"text-align: right;\">\n",
       "      <th></th>\n",
       "      <th>job_desig</th>\n",
       "      <th>job_type</th>\n",
       "      <th>location</th>\n",
       "      <th>company_name_encoded</th>\n",
       "      <th>min_experience</th>\n",
       "    </tr>\n",
       "  </thead>\n",
       "  <tbody>\n",
       "    <tr>\n",
       "      <th>0</th>\n",
       "      <td>10715</td>\n",
       "      <td>5</td>\n",
       "      <td>1057</td>\n",
       "      <td>2209</td>\n",
       "      <td>5.0</td>\n",
       "    </tr>\n",
       "    <tr>\n",
       "      <th>1</th>\n",
       "      <td>5482</td>\n",
       "      <td>5</td>\n",
       "      <td>461</td>\n",
       "      <td>3311</td>\n",
       "      <td>10.0</td>\n",
       "    </tr>\n",
       "    <tr>\n",
       "      <th>2</th>\n",
       "      <td>3997</td>\n",
       "      <td>2</td>\n",
       "      <td>978</td>\n",
       "      <td>2838</td>\n",
       "      <td>5.0</td>\n",
       "    </tr>\n",
       "    <tr>\n",
       "      <th>3</th>\n",
       "      <td>969</td>\n",
       "      <td>2</td>\n",
       "      <td>158</td>\n",
       "      <td>1523</td>\n",
       "      <td>7.0</td>\n",
       "    </tr>\n",
       "    <tr>\n",
       "      <th>4</th>\n",
       "      <td>431</td>\n",
       "      <td>5</td>\n",
       "      <td>1296</td>\n",
       "      <td>2691</td>\n",
       "      <td>1.0</td>\n",
       "    </tr>\n",
       "    <tr>\n",
       "      <th>...</th>\n",
       "      <td>...</td>\n",
       "      <td>...</td>\n",
       "      <td>...</td>\n",
       "      <td>...</td>\n",
       "      <td>...</td>\n",
       "    </tr>\n",
       "    <tr>\n",
       "      <th>19797</th>\n",
       "      <td>4275</td>\n",
       "      <td>5</td>\n",
       "      <td>1353</td>\n",
       "      <td>431</td>\n",
       "      <td>12.0</td>\n",
       "    </tr>\n",
       "    <tr>\n",
       "      <th>19798</th>\n",
       "      <td>6921</td>\n",
       "      <td>5</td>\n",
       "      <td>133</td>\n",
       "      <td>3789</td>\n",
       "      <td>0.0</td>\n",
       "    </tr>\n",
       "    <tr>\n",
       "      <th>19799</th>\n",
       "      <td>8574</td>\n",
       "      <td>5</td>\n",
       "      <td>1353</td>\n",
       "      <td>2933</td>\n",
       "      <td>8.0</td>\n",
       "    </tr>\n",
       "    <tr>\n",
       "      <th>19800</th>\n",
       "      <td>3178</td>\n",
       "      <td>5</td>\n",
       "      <td>338</td>\n",
       "      <td>4906</td>\n",
       "      <td>1.0</td>\n",
       "    </tr>\n",
       "    <tr>\n",
       "      <th>19801</th>\n",
       "      <td>952</td>\n",
       "      <td>5</td>\n",
       "      <td>1353</td>\n",
       "      <td>3224</td>\n",
       "      <td>2.0</td>\n",
       "    </tr>\n",
       "  </tbody>\n",
       "</table>\n",
       "<p>19802 rows × 5 columns</p>\n",
       "</div>"
      ],
      "text/plain": [
       "       job_desig  job_type  location  company_name_encoded  min_experience\n",
       "0          10715         5      1057                  2209             5.0\n",
       "1           5482         5       461                  3311            10.0\n",
       "2           3997         2       978                  2838             5.0\n",
       "3            969         2       158                  1523             7.0\n",
       "4            431         5      1296                  2691             1.0\n",
       "...          ...       ...       ...                   ...             ...\n",
       "19797       4275         5      1353                   431            12.0\n",
       "19798       6921         5       133                  3789             0.0\n",
       "19799       8574         5      1353                  2933             8.0\n",
       "19800       3178         5       338                  4906             1.0\n",
       "19801        952         5      1353                  3224             2.0\n",
       "\n",
       "[19802 rows x 5 columns]"
      ]
     },
     "execution_count": 12,
     "metadata": {},
     "output_type": "execute_result"
    }
   ],
   "source": [
    "X_data = data.drop(['Unnamed: 0', 'experience', 'job_description', 'key_skills', 'salary'], axis=1)\n",
    "y_data = data['salary']\n",
    "X_data"
   ]
  },
  {
   "cell_type": "code",
   "execution_count": 14,
   "id": "7da97714-882b-48ef-9538-a4eef18f211d",
   "metadata": {},
   "outputs": [
    {
     "data": {
      "text/plain": [
       "0.3430951779853572"
      ]
     },
     "execution_count": 14,
     "metadata": {},
     "output_type": "execute_result"
    }
   ],
   "source": [
    "X_train, X_test, y_train, y_test = train_test_split(X_data, y_data, test_size=0.2, random_state=42)\n",
    "\n",
    "\n",
    "rf_model = RandomForestClassifier(n_estimators=100, random_state=42)\n",
    "rf_model.fit(X_train, y_train)\n",
    "\n",
    "y_pred = rf_model.predict(X_test)\n",
    "accuracy_score(y_test, y_pred)"
   ]
  },
  {
   "cell_type": "code",
   "execution_count": null,
   "id": "a01186f4-4649-4dd4-b35c-a9f9051ff451",
   "metadata": {},
   "outputs": [],
   "source": []
  }
 ],
 "metadata": {
  "kernelspec": {
   "display_name": "Python 3 (ipykernel)",
   "language": "python",
   "name": "python3"
  },
  "language_info": {
   "codemirror_mode": {
    "name": "ipython",
    "version": 3
   },
   "file_extension": ".py",
   "mimetype": "text/x-python",
   "name": "python",
   "nbconvert_exporter": "python",
   "pygments_lexer": "ipython3",
   "version": "3.12.8"
  }
 },
 "nbformat": 4,
 "nbformat_minor": 5
}
